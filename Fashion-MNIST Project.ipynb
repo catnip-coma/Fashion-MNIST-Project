{
 "cells": [
  {
   "cell_type": "markdown",
   "id": "1015115d-dd0f-4ec9-816a-4d1d1f426f0f",
   "metadata": {},
   "source": [
    "# Fashion-MNIST Project"
   ]
  },
  {
   "cell_type": "markdown",
   "id": "5490def8-256f-4b24-b274-113edc6f012f",
   "metadata": {},
   "source": [
    "## Table of Contents\n",
    "- [Introduction](#toc1)\n",
    "- [Objectives](#toc2)\n",
    "- [Overview](#toc41)\n",
    "  1. [Preperation](toc12)\n",
    "  2. [Create a Dataset Class](#toc4)\n",
    "  3. [Convolutional Neural Network (CNN) in PyTorch](#toc5)\n",
    "  4. [Training the Model](#toc6)\n",
    "  5. [Visualization](#toc7)\n",
    "- [Conclusion](#toc31)"
   ]
  },
  {
   "cell_type": "markdown",
   "id": "fa2423f5-4ff7-44bb-b250-9f05514f62c0",
   "metadata": {},
   "source": [
    "## Introduction\n",
    "In this project, we implement a Convolutional Neural Network (CNN) using PyTorch to classify images from the Fashion MNIST dataset. Fashion MNIST is a widely-used dataset consisting of grayscale images of clothing items across 10 categories, such as shirts, shoes, and handbags. The project involves data preprocessing, model training, and performance evaluation using batch normalization and standard CNN architectures. By analyzing the accuracy and cost trends, we aim to improve classification performance and optimize model training.\n",
    "\n",
    "## Objectives\n",
    "- Preprocess the Dataset: Apply image transformations, such as resizing and converting images to tensors.\n",
    "- Build and Train a CNN: Develop two CNN architectures—one with Batch Normalization and one regular CNN—to compare training efficiency.\n",
    "- Evaluate Model Performance: Measure training loss and validation accuracy, ensuring accuracy exceeds 85%.\n",
    "- Visualize Training Metrics: Plot the cost and accuracy trends over multiple epochs.\n",
    "- Optimize Model Parameters: Utilize SGD optimizer with Cross Entropy Loss to refine the learning process.\n",
    "\n",
    "## Overview\n",
    "### Preperation"
   ]
  },
  {
   "cell_type": "code",
   "execution_count": 1,
   "id": "e48ed0f4-2211-43eb-8d17-eb7f321fcfe9",
   "metadata": {
    "scrolled": true
   },
   "outputs": [
    {
     "name": "stdout",
     "output_type": "stream",
     "text": [
      "Requirement already satisfied: torch in c:\\users\\navya\\onedrive\\python\\anaconda 1\\lib\\site-packages (2.3.1)\n",
      "Requirement already satisfied: filelock in c:\\users\\navya\\onedrive\\python\\anaconda 1\\lib\\site-packages (from torch) (3.13.1)\n",
      "Requirement already satisfied: typing-extensions>=4.8.0 in c:\\users\\navya\\onedrive\\python\\anaconda 1\\lib\\site-packages (from torch) (4.11.0)\n",
      "Requirement already satisfied: sympy in c:\\users\\navya\\onedrive\\python\\anaconda 1\\lib\\site-packages (from torch) (1.13.3)\n",
      "Requirement already satisfied: networkx in c:\\users\\navya\\onedrive\\python\\anaconda 1\\lib\\site-packages (from torch) (3.3)\n",
      "Requirement already satisfied: jinja2 in c:\\users\\navya\\onedrive\\python\\anaconda 1\\lib\\site-packages (from torch) (3.1.4)\n",
      "Requirement already satisfied: fsspec in c:\\users\\navya\\onedrive\\python\\anaconda 1\\lib\\site-packages (from torch) (2024.6.1)\n",
      "Requirement already satisfied: mkl<=2021.4.0,>=2021.1.1 in c:\\users\\navya\\onedrive\\python\\anaconda 1\\lib\\site-packages (from torch) (2021.4.0)\n",
      "Requirement already satisfied: intel-openmp==2021.* in c:\\users\\navya\\onedrive\\python\\anaconda 1\\lib\\site-packages (from mkl<=2021.4.0,>=2021.1.1->torch) (2021.4.0)\n",
      "Requirement already satisfied: tbb==2021.* in c:\\users\\navya\\onedrive\\python\\anaconda 1\\lib\\site-packages (from mkl<=2021.4.0,>=2021.1.1->torch) (2021.13.1)\n",
      "Requirement already satisfied: MarkupSafe>=2.0 in c:\\users\\navya\\onedrive\\python\\anaconda 1\\lib\\site-packages (from jinja2->torch) (2.1.3)\n",
      "Requirement already satisfied: mpmath<1.4,>=1.1.0 in c:\\users\\navya\\onedrive\\python\\anaconda 1\\lib\\site-packages (from sympy->torch) (1.3.0)\n"
     ]
    },
    {
     "name": "stderr",
     "output_type": "stream",
     "text": [
      "WARNING: Ignoring invalid distribution ~andas (C:\\Users\\navya\\OneDrive\\Python\\Anaconda 1\\Lib\\site-packages)\n",
      "WARNING: Ignoring invalid distribution ~andas (C:\\Users\\navya\\OneDrive\\Python\\Anaconda 1\\Lib\\site-packages)\n",
      "WARNING: Ignoring invalid distribution ~andas (C:\\Users\\navya\\OneDrive\\Python\\Anaconda 1\\Lib\\site-packages)\n"
     ]
    },
    {
     "name": "stdout",
     "output_type": "stream",
     "text": [
      "Collecting torchvision\n",
      "  Downloading torchvision-0.22.0-cp312-cp312-win_amd64.whl.metadata (6.3 kB)\n",
      "Requirement already satisfied: numpy in c:\\users\\navya\\onedrive\\python\\anaconda 1\\lib\\site-packages (from torchvision) (1.26.4)\n",
      "Collecting torch==2.7.0 (from torchvision)\n",
      "  Using cached torch-2.7.0-cp312-cp312-win_amd64.whl.metadata (29 kB)\n",
      "Requirement already satisfied: pillow!=8.3.*,>=5.3.0 in c:\\users\\navya\\onedrive\\python\\anaconda 1\\lib\\site-packages (from torchvision) (11.1.0)\n",
      "Requirement already satisfied: filelock in c:\\users\\navya\\onedrive\\python\\anaconda 1\\lib\\site-packages (from torch==2.7.0->torchvision) (3.13.1)\n",
      "Requirement already satisfied: typing-extensions>=4.10.0 in c:\\users\\navya\\onedrive\\python\\anaconda 1\\lib\\site-packages (from torch==2.7.0->torchvision) (4.11.0)\n",
      "Requirement already satisfied: sympy>=1.13.3 in c:\\users\\navya\\onedrive\\python\\anaconda 1\\lib\\site-packages (from torch==2.7.0->torchvision) (1.13.3)\n",
      "Requirement already satisfied: networkx in c:\\users\\navya\\onedrive\\python\\anaconda 1\\lib\\site-packages (from torch==2.7.0->torchvision) (3.3)\n",
      "Requirement already satisfied: jinja2 in c:\\users\\navya\\onedrive\\python\\anaconda 1\\lib\\site-packages (from torch==2.7.0->torchvision) (3.1.4)\n",
      "Requirement already satisfied: fsspec in c:\\users\\navya\\onedrive\\python\\anaconda 1\\lib\\site-packages (from torch==2.7.0->torchvision) (2024.6.1)\n",
      "Requirement already satisfied: setuptools in c:\\users\\navya\\onedrive\\python\\anaconda 1\\lib\\site-packages (from torch==2.7.0->torchvision) (75.1.0)\n",
      "Requirement already satisfied: mpmath<1.4,>=1.1.0 in c:\\users\\navya\\onedrive\\python\\anaconda 1\\lib\\site-packages (from sympy>=1.13.3->torch==2.7.0->torchvision) (1.3.0)\n",
      "Requirement already satisfied: MarkupSafe>=2.0 in c:\\users\\navya\\onedrive\\python\\anaconda 1\\lib\\site-packages (from jinja2->torch==2.7.0->torchvision) (2.1.3)\n",
      "Downloading torchvision-0.22.0-cp312-cp312-win_amd64.whl (1.7 MB)\n",
      "   ---------------------------------------- 0.0/1.7 MB ? eta -:--:--\n",
      "   ---------------------------------------- 0.0/1.7 MB ? eta -:--:--\n",
      "   ---------------------------------------- 0.0/1.7 MB ? eta -:--:--\n",
      "   ---------------------------------------- 0.0/1.7 MB ? eta -:--:--\n",
      "   ------ --------------------------------- 0.3/1.7 MB ? eta -:--:--\n",
      "   ------ --------------------------------- 0.3/1.7 MB ? eta -:--:--\n",
      "   ------ --------------------------------- 0.3/1.7 MB ? eta -:--:--\n",
      "   ------------ --------------------------- 0.5/1.7 MB 429.7 kB/s eta 0:00:03\n",
      "   ------------------ --------------------- 0.8/1.7 MB 657.8 kB/s eta 0:00:02\n",
      "   ------------------------------ --------- 1.3/1.7 MB 932.1 kB/s eta 0:00:01\n",
      "   ------------------------------ --------- 1.3/1.7 MB 932.1 kB/s eta 0:00:01\n",
      "   ------------------------------ --------- 1.3/1.7 MB 932.1 kB/s eta 0:00:01\n",
      "   ------------------------------ --------- 1.3/1.7 MB 932.1 kB/s eta 0:00:01\n",
      "   ------------------------------ --------- 1.3/1.7 MB 932.1 kB/s eta 0:00:01\n",
      "   ------------------------------------ --- 1.6/1.7 MB 640.3 kB/s eta 0:00:01\n",
      "   ---------------------------------------- 1.7/1.7 MB 616.3 kB/s eta 0:00:00\n",
      "Using cached torch-2.7.0-cp312-cp312-win_amd64.whl (212.5 MB)\n",
      "Installing collected packages: torch, torchvision\n",
      "  Attempting uninstall: torch\n",
      "    Found existing installation: torch 2.3.1\n",
      "    Uninstalling torch-2.3.1:\n",
      "      Successfully uninstalled torch-2.3.1\n",
      "Successfully installed torch-2.7.0 torchvision-0.22.0\n"
     ]
    },
    {
     "name": "stderr",
     "output_type": "stream",
     "text": [
      "WARNING: Ignoring invalid distribution ~andas (C:\\Users\\navya\\OneDrive\\Python\\Anaconda 1\\Lib\\site-packages)\n",
      "WARNING: Ignoring invalid distribution ~andas (C:\\Users\\navya\\OneDrive\\Python\\Anaconda 1\\Lib\\site-packages)\n",
      "WARNING: Ignoring invalid distribution ~andas (C:\\Users\\navya\\OneDrive\\Python\\Anaconda 1\\Lib\\site-packages)\n"
     ]
    },
    {
     "name": "stdout",
     "output_type": "stream",
     "text": [
      "Requirement already satisfied: matplotlib in c:\\users\\navya\\onedrive\\python\\anaconda 1\\lib\\site-packages (3.8.0)\n",
      "Requirement already satisfied: contourpy>=1.0.1 in c:\\users\\navya\\onedrive\\python\\anaconda 1\\lib\\site-packages (from matplotlib) (1.2.0)\n",
      "Requirement already satisfied: cycler>=0.10 in c:\\users\\navya\\onedrive\\python\\anaconda 1\\lib\\site-packages (from matplotlib) (0.11.0)\n",
      "Requirement already satisfied: fonttools>=4.22.0 in c:\\users\\navya\\onedrive\\python\\anaconda 1\\lib\\site-packages (from matplotlib) (4.51.0)\n",
      "Requirement already satisfied: kiwisolver>=1.0.1 in c:\\users\\navya\\onedrive\\python\\anaconda 1\\lib\\site-packages (from matplotlib) (1.4.4)\n",
      "Requirement already satisfied: numpy<2,>=1.21 in c:\\users\\navya\\onedrive\\python\\anaconda 1\\lib\\site-packages (from matplotlib) (1.26.4)\n",
      "Requirement already satisfied: packaging>=20.0 in c:\\users\\navya\\onedrive\\python\\anaconda 1\\lib\\site-packages (from matplotlib) (24.1)\n",
      "Requirement already satisfied: pillow>=6.2.0 in c:\\users\\navya\\onedrive\\python\\anaconda 1\\lib\\site-packages (from matplotlib) (11.1.0)\n",
      "Requirement already satisfied: pyparsing>=2.3.1 in c:\\users\\navya\\onedrive\\python\\anaconda 1\\lib\\site-packages (from matplotlib) (3.1.2)\n",
      "Requirement already satisfied: python-dateutil>=2.7 in c:\\users\\navya\\onedrive\\python\\anaconda 1\\lib\\site-packages (from matplotlib) (2.9.0.post0)\n",
      "Requirement already satisfied: six>=1.5 in c:\\users\\navya\\onedrive\\python\\anaconda 1\\lib\\site-packages (from python-dateutil>=2.7->matplotlib) (1.16.0)\n"
     ]
    },
    {
     "name": "stderr",
     "output_type": "stream",
     "text": [
      "WARNING: Ignoring invalid distribution ~andas (C:\\Users\\navya\\OneDrive\\Python\\Anaconda 1\\Lib\\site-packages)\n",
      "WARNING: Ignoring invalid distribution ~andas (C:\\Users\\navya\\OneDrive\\Python\\Anaconda 1\\Lib\\site-packages)\n",
      "WARNING: Ignoring invalid distribution ~andas (C:\\Users\\navya\\OneDrive\\Python\\Anaconda 1\\Lib\\site-packages)\n"
     ]
    }
   ],
   "source": [
    "!pip install torch\n",
    "!pip install torchvision\n",
    "!pip install matplotlib"
   ]
  },
  {
   "cell_type": "code",
   "execution_count": 3,
   "id": "86b08745-4b79-423b-9ae8-9a8e814e14b2",
   "metadata": {},
   "outputs": [
    {
     "data": {
      "text/plain": [
       "<torch._C.Generator at 0x12a646c4430>"
      ]
     },
     "execution_count": 3,
     "metadata": {},
     "output_type": "execute_result"
    }
   ],
   "source": [
    "# Import necessary non-PyTorch modules\n",
    "import torch\n",
    "import torch.nn as nn\n",
    "from torch.utils.data import Dataset, DataLoader\n",
    "import torchvision.transforms as transforms\n",
    "import torchvision.datasets as dsets\n",
    "\n",
    "# Set manual seed for reproducibility\n",
    "torch.manual_seed(0)\n"
   ]
  },
  {
   "cell_type": "code",
   "execution_count": 4,
   "id": "90d911b3-292e-4ecb-8c16-972951df5bd5",
   "metadata": {},
   "outputs": [],
   "source": [
    "# Import necessary non-PyTorch modules\n",
    "from matplotlib.pyplot import imshow\n",
    "import matplotlib.pylab as plt\n",
    "from PIL import Image"
   ]
  },
  {
   "cell_type": "code",
   "execution_count": 5,
   "id": "5bd5f673-bfbc-4831-8253-908fa21be797",
   "metadata": {},
   "outputs": [],
   "source": [
    "def show_data(data_sample):\n",
    "    plt.imshow(data_sample[0].numpy().reshape(IMAGE_SIZE, IMAGE_SIZE), cmap='gray')\n",
    "    plt.title('y = '+ str(data_sample[1]))"
   ]
  },
  {
   "cell_type": "markdown",
   "id": "86916ef4-c056-4887-a31c-af3cf202db9c",
   "metadata": {},
   "source": [
    "### Create a Dataset Class"
   ]
  },
  {
   "cell_type": "code",
   "execution_count": 31,
   "id": "a72b05bd-df92-41f4-8e49-d906a1e31ac5",
   "metadata": {},
   "outputs": [],
   "source": [
    "# Define transformations\n",
    "IMAGE_SIZE = 16\n",
    "composed = transforms.Compose([\n",
    "    transforms.Resize((IMAGE_SIZE, IMAGE_SIZE)),  # Resize images\n",
    "    transforms.ToTensor()  # Convert images to tensors\n",
    "])"
   ]
  },
  {
   "cell_type": "code",
   "execution_count": 32,
   "id": "bf3974c0-c8d8-49fb-9d4b-3193f5c15835",
   "metadata": {},
   "outputs": [],
   "source": [
    "# Load datasets\n",
    "dataset_train = dsets.FashionMNIST(root='.fashion/data', train=True, transform=composed, download=True)\n",
    "dataset_val = dsets.FashionMNIST(root='.fashion/data', train=False, transform=composed, download=True)"
   ]
  },
  {
   "cell_type": "code",
   "execution_count": 33,
   "id": "e3e098d3-2886-4883-b2c2-d90cb2a9dc44",
   "metadata": {},
   "outputs": [
    {
     "data": {
      "image/png": "[encoded data removed]",
      "text/plain": [
       "<Figure size 640x480 with 1 Axes>"
      ]
     },
     "metadata": {},
     "output_type": "display_data"
    },
    {
     "data": {
      "image/png": "[encoded data removed]",
      "text/plain": [
       "<Figure size 640x480 with 1 Axes>"
      ]
     },
     "metadata": {},
     "output_type": "display_data"
    },
    {
     "data": {
      "image/png": "[encoded data removed]",
      "text/plain": [
       "<Figure size 640x480 with 1 Axes>"
      ]
     },
     "metadata": {},
     "output_type": "display_data"
    }
   ],
   "source": [
    "for n,data_sample in enumerate(dataset_val):\n",
    "\n",
    "    show_data(data_sample)\n",
    "    plt.show()\n",
    "    if n==2:\n",
    "        break "
   ]
  },
  {
   "cell_type": "markdown",
   "id": "a998befa-7d22-41a7-885d-b697539472c3",
   "metadata": {},
   "source": [
    "### Setting up a Convolutional Neural Network (CNN) in PyTorch"
   ]
  },
  {
   "cell_type": "code",
   "execution_count": 34,
   "id": "8dbf8a4a-8675-4b65-9c31-0f556dd54000",
   "metadata": {},
   "outputs": [],
   "source": [
    "class CNN_batch(nn.Module):\n",
    "    \n",
    "    # Constructor\n",
    "    def __init__(self, out_1=16, out_2=32,number_of_classes=10):\n",
    "        super(CNN_batch, self).__init__()\n",
    "        self.cnn1 = nn.Conv2d(in_channels=1, out_channels=out_1, kernel_size=5, padding=2)\n",
    "        self.conv1_bn = nn.BatchNorm2d(out_1)\n",
    "\n",
    "        self.maxpool1=nn.MaxPool2d(kernel_size=2)\n",
    "        \n",
    "        self.cnn2 = nn.Conv2d(in_channels=out_1, out_channels=out_2, kernel_size=5, stride=1, padding=2)\n",
    "        self.conv2_bn = nn.BatchNorm2d(out_2)\n",
    "\n",
    "        self.maxpool2=nn.MaxPool2d(kernel_size=2)\n",
    "        self.fc1 = nn.Linear(out_2 * 4 * 4, number_of_classes)\n",
    "        self.bn_fc1 = nn.BatchNorm1d(10)\n",
    "    \n",
    "    # Prediction\n",
    "    def forward(self, x):\n",
    "        x = self.cnn1(x)\n",
    "        x=self.conv1_bn(x)\n",
    "        x = torch.relu(x)\n",
    "        x = self.maxpool1(x)\n",
    "        x = self.cnn2(x)\n",
    "        x=self.conv2_bn(x)\n",
    "        x = torch.relu(x)\n",
    "        x = self.maxpool2(x)\n",
    "        x = x.view(x.size(0), -1)\n",
    "        x = self.fc1(x)\n",
    "        x=self.bn_fc1(x)\n",
    "        return x"
   ]
  },
  {
   "cell_type": "code",
   "execution_count": 35,
   "id": "24e1bccd-8e47-434b-9abc-1e73868be6bb",
   "metadata": {},
   "outputs": [],
   "source": [
    "train_loader = torch.utils.data.DataLoader(dataset=dataset_train, batch_size=100 )\n",
    "test_loader = torch.utils.data.DataLoader(dataset=dataset_val, batch_size=100 )"
   ]
  },
  {
   "cell_type": "code",
   "execution_count": 36,
   "id": "8ea01a22-5895-4ec7-8b00-e74358dee59c",
   "metadata": {},
   "outputs": [],
   "source": [
    "model =CNN_batch(out_1=16, out_2=32,number_of_classes=10)"
   ]
  },
  {
   "cell_type": "code",
   "execution_count": 37,
   "id": "8f24d57c-77d7-446e-8048-526c7c9e99a4",
   "metadata": {},
   "outputs": [],
   "source": [
    "# Define the loss function\n",
    "criterion = nn.CrossEntropyLoss()"
   ]
  },
  {
   "cell_type": "code",
   "execution_count": 38,
   "id": "c259f688-b822-4553-96a7-9e70e40d5db3",
   "metadata": {},
   "outputs": [],
   "source": [
    "import torch.optim as optim\n",
    "\n",
    "# Define the optimizer\n",
    "optimizer = optim.SGD(model.parameters(), lr=0.1)"
   ]
  },
  {
   "cell_type": "markdown",
   "id": "faf57760-460e-4a45-a4a3-97458be0c85e",
   "metadata": {},
   "source": [
    "### Training the Model"
   ]
  },
  {
   "cell_type": "code",
   "execution_count": 25,
   "id": "bdbd1eb2-6bee-4515-bdaf-9c79ecbce1cb",
   "metadata": {},
   "outputs": [],
   "source": [
    "import time\n",
    "start_time = time.time()\n",
    "\n",
    "cost_list=[]\n",
    "accuracy_list=[]\n",
    "N_test=len(dataset_val)\n",
    "n_epochs=5\n",
    "for epoch in range(n_epochs):\n",
    "    cost=0\n",
    "    model.train()\n",
    "    for x, y in train_loader:\n",
    "        optimizer.zero_grad()\n",
    "        z = model(x)\n",
    "        loss = criterion(z, y)\n",
    "        loss.backward()\n",
    "        optimizer.step()\n",
    "        cost+=loss.item()\n",
    "    correct=0\n",
    "    #perform a prediction on the validation  data \n",
    "    model.eval()\n",
    "    for x_test, y_test in test_loader:\n",
    "        z = model(x_test)\n",
    "        _, yhat = torch.max(z.data, 1)\n",
    "        correct += (yhat == y_test).sum().item()\n",
    "    accuracy = correct / N_test\n",
    "    accuracy_list.append(accuracy)\n",
    "    cost_list.append(cost)"
   ]
  },
  {
   "cell_type": "markdown",
   "id": "aa4ed32f-5504-477a-8631-ca568289989c",
   "metadata": {},
   "source": [
    "### Visualisation"
   ]
  },
  {
   "cell_type": "code",
   "execution_count": 39,
   "id": "da201a39-423a-4d7a-b5eb-7919607d9140",
   "metadata": {},
   "outputs": [
    {
     "data": {
      "image/png": "[encoded data removed]",
      "text/plain": [
       "<Figure size 640x480 with 2 Axes>"
      ]
     },
     "metadata": {},
     "output_type": "display_data"
    }
   ],
   "source": [
    "fig, ax1 = plt.subplots()\n",
    "color = 'tab:red'\n",
    "ax1.plot(cost_list, color=color)\n",
    "ax1.set_xlabel('epoch', color=color)\n",
    "ax1.set_ylabel('Cost', color=color)\n",
    "ax1.tick_params(axis='y', color=color)\n",
    "    \n",
    "ax2 = ax1.twinx()  \n",
    "color = 'tab:blue'\n",
    "ax2.set_ylabel('accuracy', color=color) \n",
    "ax2.set_xlabel('epoch', color=color)\n",
    "ax2.plot( accuracy_list, color=color)\n",
    "ax2.tick_params(axis='y', color=color)\n",
    "fig.tight_layout()"
   ]
  },
  {
   "cell_type": "markdown",
   "id": "0043e597-ab62-41ec-b895-2ff940e47b55",
   "metadata": {},
   "source": [
    "## Conclusion\n",
    "Through this project, we successfully trained a CNN model to classify Fashion MNIST images, leveraging batch normalization and standard CNN techniques. The validation accuracy reached above 85%, confirming the effectiveness of our approach. By analyzing loss curves and accuracy trends, we gained insights into optimizing neural networks for image classification. Future improvements could include fine-tuning hyperparameters, exploring advanced architectures, or incorporating techniques like dropout to enhance generalization."
   ]
  },
  {
   "cell_type": "code",
   "execution_count": null,
   "id": "5b688f6a-773b-42d0-a1ca-5e6c6276abbc",
   "metadata": {},
   "outputs": [],
   "source": []
  }
 ],
 "metadata": {
  "kernelspec": {
   "display_name": "Python 3 (ipykernel)",
   "language": "python",
   "name": "python3"
  },
  "language_info": {
   "codemirror_mode": {
    "name": "ipython",
    "version": 3
   },
   "file_extension": ".py",
   "mimetype": "text/x-python",
   "name": "python",
   "nbconvert_exporter": "python",
   "pygments_lexer": "ipython3",
   "version": "3.12.7"
  }
 },
 "nbformat": 4,
 "nbformat_minor": 5
}
